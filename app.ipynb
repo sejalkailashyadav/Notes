{
  "nbformat": 4,
  "nbformat_minor": 0,
  "metadata": {
    "colab": {
      "provenance": [],
      "authorship_tag": "ABX9TyNgp0eKT6eGhckvBbW9yKDV",
      "include_colab_link": true
    },
    "kernelspec": {
      "name": "python3",
      "display_name": "Python 3"
    },
    "language_info": {
      "name": "python"
    }
  },
  "cells": [
    {
      "cell_type": "markdown",
      "metadata": {
        "id": "view-in-github",
        "colab_type": "text"
      },
      "source": [
        "<a href=\"https://colab.research.google.com/github/sejalkailashyadav/Notes/blob/main/app.ipynb\" target=\"_parent\"><img src=\"https://colab.research.google.com/assets/colab-badge.svg\" alt=\"Open In Colab\"/></a>"
      ]
    },
    {
      "cell_type": "markdown",
      "source": [
        "🔒 Ultimate Security Toolkit PRO 3.0"
      ],
      "metadata": {
        "id": "P9yE7TEY3AK3"
      }
    },
    {
      "cell_type": "code",
      "source": [
        "from pyngrok import ngrok\n",
        "\n",
        "# Kill all tunnels\n",
        "ngrok.kill()\n",
        "print(\"All ngrok tunnels have been stopped.\")\n"
      ],
      "metadata": {
        "id": "QTqJ4mlGqSkG",
        "colab": {
          "base_uri": "https://localhost:8080/"
        },
        "outputId": "cbee2bc9-4eaf-4acb-ddbf-4db590808cb5"
      },
      "execution_count": 42,
      "outputs": [
        {
          "output_type": "stream",
          "name": "stdout",
          "text": [
            "All ngrok tunnels have been stopped.\n"
          ]
        }
      ]
    },
    {
      "cell_type": "code",
      "source": [
        "# ----------------- Install Dependencies -----------------\n",
        "!pip install streamlit pyngrok cryptography pandas plotly --quiet\n",
        "\n",
        "# ----------------- Create Enhanced App -----------------\n",
        "pro_ui_app = '''\n",
        "import streamlit as st\n",
        "import pandas as pd, random, string, base64\n",
        "from cryptography.fernet import Fernet\n",
        "import plotly.express as px\n",
        "import streamlit.components.v1 as components\n",
        "import os\n",
        "\n",
        "st.set_page_config(page_title=\"🔒 Ultimate Security Toolkit PRO 3.0\", layout=\"wide\")\n",
        "st.title(\"🔒 Ultimate Security Toolkit PRO 3.0\")\n",
        "\n",
        "# ----------------- SESSION STATE -----------------\n",
        "for key in [\"password_history\", \"usernames\", \"notes\", \"theme\"]:\n",
        "    if key not in st.session_state:\n",
        "        st.session_state[key] = [] if \"history\" in key or key in [\"usernames\",\"notes\"] else \"Light\"\n",
        "\n",
        "# ----------------- THEME TOGGLE -----------------\n",
        "theme = st.sidebar.radio(\"Theme\", [\"Light\",\"Dark\"], index=0 if st.session_state[\"theme\"]==\"Light\" else 1)\n",
        "st.session_state[\"theme\"] = theme\n",
        "if theme==\"Dark\":\n",
        "    st.markdown(\"<style>body{background-color:#111;color:white;}</style>\", unsafe_allow_html=True)\n",
        "else:\n",
        "    st.markdown(\"<style>body{background-color:white;color:black;}</style>\", unsafe_allow_html=True)\n",
        "\n",
        "# ----------------- MODULE TABS -----------------\n",
        "tab1, tab2, tab3, tab4, tab5, tab6 = st.tabs([\n",
        "    \"Password Generator\",\"Password Checker\",\"Username Generator\",\"Encrypt/Decrypt\",\"Secure Notes\",\"Analytics\"\n",
        "])\n",
        "\n",
        "# ----------------- PASSWORD GENERATOR -----------------\n",
        "with tab1:\n",
        "    st.header(\"🔑 Password Generator\")\n",
        "    length = st.slider(\"Password Length\",8,32,16)\n",
        "    upper = st.checkbox(\"Include Uppercase\",True)\n",
        "    numbers = st.checkbox(\"Include Numbers\",True)\n",
        "    symbols = st.checkbox(\"Include Symbols\",True)\n",
        "    batch = st.number_input(\"Number of Passwords\",1,10,1)\n",
        "\n",
        "    def gen_pwd():\n",
        "        chars = string.ascii_lowercase\n",
        "        if upper: chars+=string.ascii_uppercase\n",
        "        if numbers: chars+=string.digits\n",
        "        if symbols: chars+=\"!@#$%^&*()-_=+[]{}|;:,.<>?\"\n",
        "        return ''.join(random.choice(chars) for _ in range(length))\n",
        "\n",
        "    if st.button(\"Generate Passwords\"):\n",
        "        passwords = [gen_pwd() for _ in range(batch)]\n",
        "        st.session_state[\"password_history\"].extend(passwords)\n",
        "        df = pd.DataFrame({\"Passwords\": passwords})\n",
        "        st.dataframe(df)\n",
        "        # Copy buttons\n",
        "        for p in passwords:\n",
        "            html_code = f\"\"\"\n",
        "            <div style=\"display:flex; align-items:center; margin-bottom:5px;\">\n",
        "                <input value=\"{p}\" id=\"copy_{p}\" readonly style=\"width:300px; padding:5px;\"/>\n",
        "                <button onclick=\"navigator.clipboard.writeText(document.getElementById('copy_{p}').value)\">Copy</button>\n",
        "            </div>\n",
        "            \"\"\"\n",
        "            components.html(html_code, height=40)\n",
        "        # Export CSV\n",
        "        df_all = pd.DataFrame({\"Passwords\": st.session_state[\"password_history\"]})\n",
        "        st.download_button(\"📥 Export All Passwords\", df_all.to_csv(index=False).encode(), \"passwords.csv\")\n",
        "\n",
        "# ----------------- PASSWORD CHECKER -----------------\n",
        "with tab2:\n",
        "    st.header(\"🛡 Password Strength Checker\")\n",
        "    pwd = st.text_input(\"Enter password to check\")\n",
        "    if pwd:\n",
        "        score = 0\n",
        "        issues=[]\n",
        "        if any(c.islower() for c in pwd): score+=1\n",
        "        else: issues.append(\"Add lowercase\")\n",
        "        if any(c.isupper() for c in pwd): score+=1\n",
        "        else: issues.append(\"Add uppercase\")\n",
        "        if any(c.isdigit() for c in pwd): score+=1\n",
        "        else: issues.append(\"Add numbers\")\n",
        "        if any(c in \"!@#$%^&*()-_=+[]{}|;:,.<>?\" for c in pwd): score+=1\n",
        "        else: issues.append(\"Add symbols\")\n",
        "        st.info(f\"Strength Score: {score}/4\")\n",
        "        if score<3: st.warning(f\"Weak password! Issues: {', '.join(issues)}\")\n",
        "        else: st.success(\"Strong password!\")\n",
        "\n",
        "# ----------------- USERNAME GENERATOR -----------------\n",
        "with tab3:\n",
        "    st.header(\"👤 Username Generator\")\n",
        "    prefix = st.text_input(\"Prefix\")\n",
        "    suffix = st.text_input(\"Suffix\")\n",
        "    u_length = st.slider(\"Random Part Length\",4,12,6)\n",
        "    u_batch = st.number_input(\"Number of usernames\",1,10,1)\n",
        "    if st.button(\"Generate Usernames\"):\n",
        "        usernames = [prefix + ''.join(random.choices(string.ascii_letters+string.digits,k=u_length)) + suffix for _ in range(u_batch)]\n",
        "        st.session_state[\"usernames\"].extend(usernames)\n",
        "        df = pd.DataFrame({\"Usernames\": usernames})\n",
        "        st.dataframe(df)\n",
        "        # Copy buttons\n",
        "        for u in usernames:\n",
        "            html_code = f\"\"\"\n",
        "            <div style=\"display:flex; align-items:center; margin-bottom:5px;\">\n",
        "                <input value=\"{u}\" id=\"copy_{u}\" readonly style=\"width:300px; padding:5px;\"/>\n",
        "                <button onclick=\"navigator.clipboard.writeText(document.getElementById('copy_{u}').value)\">Copy</button>\n",
        "            </div>\n",
        "            \"\"\"\n",
        "            components.html(html_code, height=40)\n",
        "        # Export CSV\n",
        "        df_all = pd.DataFrame({\"Usernames\": st.session_state[\"usernames\"]})\n",
        "        st.download_button(\"📥 Export All Usernames\", df_all.to_csv(index=False).encode(), \"usernames.csv\")\n",
        "\n",
        "# ----------------- ENCRYPT/DECRYPT -----------------\n",
        "with tab4:\n",
        "    st.header(\"🔐 AES Encrypt/Decrypt\")\n",
        "    key_input = st.text_input(\"Secret Key\")\n",
        "    text = st.text_area(\"Text\")\n",
        "    action = st.radio(\"Action\", [\"Encrypt\",\"Decrypt\"])\n",
        "    if st.button(\"Run Encryption/Decryption\"):\n",
        "        if not key_input or not text: st.error(\"Key & text required\")\n",
        "        else:\n",
        "            key = base64.urlsafe_b64encode(key_input.ljust(32)[:32].encode())\n",
        "            f = Fernet(key)\n",
        "            try:\n",
        "                if action==\"Encrypt\":\n",
        "                    enc=f.encrypt(text.encode()).decode()\n",
        "                    st.success(enc)\n",
        "                    components.html(f'<button onclick=\"navigator.clipboard.writeText(`{enc}`)\">Copy Encrypted</button>', height=30)\n",
        "                else:\n",
        "                    dec=f.decrypt(text.encode()).decode()\n",
        "                    st.success(dec)\n",
        "                    components.html(f'<button onclick=\"navigator.clipboard.writeText(`{dec}`)\">Copy Decrypted</button>', height=30)\n",
        "            except Exception as e:\n",
        "                st.error(e)\n",
        "\n",
        "# ----------------- SECURE NOTES -----------------\n",
        "with tab5:\n",
        "    st.header(\"📝 Secure Notes Vault\")\n",
        "    title = st.text_input(\"Title\")\n",
        "    note = st.text_area(\"Note content\")\n",
        "    if st.button(\"Add Note\"):\n",
        "        if note.strip(): st.session_state[\"notes\"].append({\"Title\":title.strip(), \"Note\":note.strip()})\n",
        "    if st.session_state[\"notes\"]:\n",
        "        df = pd.DataFrame(st.session_state[\"notes\"])\n",
        "        search = st.text_input(\"Search Notes\")\n",
        "        filtered = df[df.apply(lambda row: search.lower() in row.to_string().lower(), axis=1)]\n",
        "        st.dataframe(filtered)\n",
        "        st.download_button(\"📥 Export Notes CSV\", df.to_csv(index=False).encode(), \"notes.csv\")\n",
        "        uploaded_file = st.file_uploader(\"📤 Import Notes CSV\", type=\"csv\")\n",
        "        if uploaded_file:\n",
        "            df_import = pd.read_csv(uploaded_file)\n",
        "            st.session_state[\"notes\"].extend(df_import.to_dict('records'))\n",
        "            st.success(\"Imported successfully!\")\n",
        "\n",
        "# ----------------- ANALYTICS -----------------\n",
        "with tab6:\n",
        "    st.header(\"📊 Analytics Dashboard\")\n",
        "    st.metric(\"Passwords Generated\", len(st.session_state[\"password_history\"]))\n",
        "    st.metric(\"Usernames Generated\", len(st.session_state[\"usernames\"]))\n",
        "    st.metric(\"Notes Added\", len(st.session_state[\"notes\"]))\n",
        "\n",
        "    if st.session_state[\"password_history\"]:\n",
        "        df_plot = pd.DataFrame({\"Passwords\": st.session_state[\"password_history\"]})\n",
        "        df_plot[\"Length\"] = df_plot[\"Passwords\"].apply(len)\n",
        "        fig = px.histogram(df_plot, x=\"Length\", nbins=10, title=\"Password Length Distribution\")\n",
        "        st.plotly_chart(fig, use_container_width=True)\n",
        "'''\n",
        "\n",
        "with open(\"app.py\",\"w\") as f:\n",
        "    f.write(pro_ui_app)\n",
        "\n",
        "# ----------------- NGROK -----------------\n",
        "from pyngrok import ngrok\n",
        "ngrok.set_auth_token(\"341MFC0ROB3trf1NOV6lZilLbpb_37K75BTLd6uwvDZ2hdEBF\")  # Replace with your ngrok token\n",
        "\n",
        "import threading, os\n",
        "def run_streamlit():\n",
        "    os.system(\"streamlit run app.py --server.port 8501 --server.headless true\")\n",
        "threading.Thread(target=run_streamlit).start()\n",
        "\n",
        "public_url = ngrok.connect(8501, proto=\"http\")\n",
        "print(\"Your Ultimate Security Toolkit PRO 3.0 is live at:\", public_url)\n"
      ],
      "metadata": {
        "colab": {
          "base_uri": "https://localhost:8080/"
        },
        "id": "gFjC-3rSwQ9C",
        "outputId": "0d84e8b7-512d-4d6a-80a9-baf06bfb836d"
      },
      "execution_count": 43,
      "outputs": [
        {
          "output_type": "stream",
          "name": "stdout",
          "text": [
            "Your Ultimate Security Toolkit PRO 3.0 is live at: NgrokTunnel: \"https://noncontrollable-jerrell-courtly.ngrok-free.dev\" -> \"http://localhost:8501\"\n"
          ]
        }
      ]
    },
    {
      "cell_type": "code",
      "source": [
        "from google.colab import drive\n",
        "drive.mount('/content/drive')"
      ],
      "metadata": {
        "id": "klIeMMuy3QSp"
      },
      "execution_count": null,
      "outputs": []
    }
  ]
}